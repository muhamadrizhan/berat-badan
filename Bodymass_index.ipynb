{
 "cells": [
  {
   "cell_type": "code",
   "execution_count": null,
   "metadata": {},
   "outputs": [],
   "source": [
    "tinggi= int(input(\"Tinggi Badan (cm) : \"))\n",
    "berat = int(input(\"Berat Badan  (kg) : \"))\n",
    "bmi = berat / ((tinggi/100)*(tinggi/100))\n",
    "\n",
    "if bmi < 18.5:\n",
    "    print (\"Kekuranga Berat Badan  \")\n",
    "elif bmi > 18.5 and bmi < 25:\n",
    "    print (\"Berat Badan Ideal  \")\n",
    "else:\n",
    "    print (\"Kelebihan Berat Badan \")"
   ]
  },
  {
   "cell_type": "code",
   "execution_count": null,
   "metadata": {},
   "outputs": [],
   "source": []
  }
 ],
 "metadata": {
  "kernelspec": {
   "display_name": "Python 3",
   "language": "python",
   "name": "python3"
  },
  "language_info": {
   "codemirror_mode": {
    "name": "ipython",
    "version": 3
   },
   "file_extension": ".py",
   "mimetype": "text/x-python",
   "name": "python",
   "nbconvert_exporter": "python",
   "pygments_lexer": "ipython3",
   "version": "3.7.1"
  }
 },
 "nbformat": 4,
 "nbformat_minor": 2
}
